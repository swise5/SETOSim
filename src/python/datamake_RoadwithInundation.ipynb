{
 "cells": [
  {
   "cell_type": "code",
   "execution_count": null,
   "metadata": {},
   "outputs": [],
   "source": [
    "import geopandas as gpd\n",
    "import os\n",
    "import matplotlib.pyplot as plt\n",
    "\n",
    "# Path\n",
    "os.chdir('/Users/fukonakai/Library/CloudStorage/Dropbox/Research/05_ABM_Okazaki/')\n",
    "RVR_PATH = '02_Data/Flood Forecast Rivers/A31b-23_10_5237_SHP/20_想定最大規模'\n",
    "\n",
    "# from OkazakiDemo\n",
    "OSR_PATH = '/Users/fukonakai/Documents/GitHub/takamatsu/data/okazakiDemo/simpleRoads.shp'\n",
    "\n",
    "# River data (inundation data of Yahagi River at L2)\n",
    "rvr = gpd.read_file(RVR_PATH, encoding='utf-8')\n",
    "\n",
    "# Road\n",
    "osr = gpd.read_file(OSR_PATH, encoding='utf-8')\n",
    "\n",
    "# CSR settings\n",
    "if osr.crs != rvr.crs:\n",
    "    rvr = rvr.to_crs(osr.crs)\n",
    "\n",
    "# join\n",
    "osr_rvr = gpd.sjoin(osr, rvr, how='left', predicate='intersects')\n",
    "\n",
    "# Fill 0 for NaN in 'A31b_201'(inundation information) column\n",
    "osr_rvr['A31b_201'] = osr_rvr['A31b_201'].fillna(0)\n",
    "\n",
    "# Delete the dupulication, and leave max(A31b_201)\n",
    "osr_rvr_max = osr_rvr.sort_values('A31b_201', ascending=False).drop_duplicates('full_id', keep='first')\n",
    "\n",
    "# data plot\n",
    "ax = osr_rvr_max.plot(column='A31b_201', legend=True, figsize=(10, 6))\n",
    "plt.title(\"Road with inundation\")\n",
    "plt.xlabel(\"Longitude\")\n",
    "plt.ylabel(\"Latitude\")\n",
    "plt.show()\n"
   ]
  }
 ],
 "metadata": {
  "language_info": {
   "name": "python"
  }
 },
 "nbformat": 4,
 "nbformat_minor": 2
}

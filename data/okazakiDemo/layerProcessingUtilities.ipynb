{
 "cells": [
  {
   "cell_type": "code",
   "execution_count": 2,
   "id": "1c76c3aa",
   "metadata": {},
   "outputs": [],
   "source": [
    "import geopandas\n",
    "import pandas as pd\n",
    "from shapely import wkt"
   ]
  },
  {
   "cell_type": "markdown",
   "id": "c89654d7",
   "metadata": {},
   "source": [
    "Read in the population data"
   ]
  },
  {
   "cell_type": "code",
   "execution_count": 35,
   "id": "3132839f",
   "metadata": {},
   "outputs": [],
   "source": [
    "path = \"populationGrid.shp\"\n",
    "popGrid = geopandas.read_file(path)"
   ]
  },
  {
   "cell_type": "markdown",
   "id": "ead2eab8",
   "metadata": {},
   "source": [
    "Convert all population and household files to be numeric values (rather than strings which the computer doesn't know how to read)"
   ]
  },
  {
   "cell_type": "code",
   "execution_count": 54,
   "id": "f6ec1df8",
   "metadata": {},
   "outputs": [
    {
     "data": {
      "text/plain": [
       "0.9"
      ]
     },
     "execution_count": 54,
     "metadata": {},
     "output_type": "execute_result"
    }
   ],
   "source": [
    "for col in popGrid.columns:\n",
    "    if col.lower().find(\"pop\") >= 0 or col.startswith(\"_Househo\"):\n",
    "        popGrid[col] = popGrid[col].astype('float')\n",
    "popGrid.to_file(\"popGridNumeric.shp\")"
   ]
  },
  {
   "cell_type": "code",
   "execution_count": 3,
   "id": "1c253319",
   "metadata": {},
   "outputs": [],
   "source": [
    "dummyHouseFilename = \"dummyHouses.txt\"\n",
    "rawHouses = pd.read_csv(dummyHouseFilename, sep=\"\\t\")"
   ]
  },
  {
   "cell_type": "code",
   "execution_count": 4,
   "id": "56ebacd5",
   "metadata": {},
   "outputs": [],
   "source": [
    "gdf = geopandas.GeoDataFrame(\n",
    "    rawHouses, geometry=geopandas.points_from_xy(rawHouses.x, rawHouses.y)\n",
    ")"
   ]
  },
  {
   "cell_type": "code",
   "execution_count": 5,
   "id": "929ec96d",
   "metadata": {},
   "outputs": [
    {
     "data": {
      "text/html": [
       "<div>\n",
       "<style scoped>\n",
       "    .dataframe tbody tr th:only-of-type {\n",
       "        vertical-align: middle;\n",
       "    }\n",
       "\n",
       "    .dataframe tbody tr th {\n",
       "        vertical-align: top;\n",
       "    }\n",
       "\n",
       "    .dataframe thead th {\n",
       "        text-align: right;\n",
       "    }\n",
       "</style>\n",
       "<table border=\"1\" class=\"dataframe\">\n",
       "  <thead>\n",
       "    <tr style=\"text-align: right;\">\n",
       "      <th></th>\n",
       "      <th>fid</th>\n",
       "      <th>x</th>\n",
       "      <th>y</th>\n",
       "      <th>geometry</th>\n",
       "    </tr>\n",
       "  </thead>\n",
       "  <tbody>\n",
       "    <tr>\n",
       "      <th>0</th>\n",
       "      <td>house_0</td>\n",
       "      <td>695997.192410</td>\n",
       "      <td>3.878538e+06</td>\n",
       "      <td>POINT (695997.192 3878538.048)</td>\n",
       "    </tr>\n",
       "    <tr>\n",
       "      <th>1</th>\n",
       "      <td>house_1</td>\n",
       "      <td>695982.274173</td>\n",
       "      <td>3.878540e+06</td>\n",
       "      <td>POINT (695982.274 3878539.612)</td>\n",
       "    </tr>\n",
       "    <tr>\n",
       "      <th>2</th>\n",
       "      <td>house_2</td>\n",
       "      <td>695967.355936</td>\n",
       "      <td>3.878541e+06</td>\n",
       "      <td>POINT (695967.356 3878541.176)</td>\n",
       "    </tr>\n",
       "    <tr>\n",
       "      <th>3</th>\n",
       "      <td>house_3</td>\n",
       "      <td>695952.437698</td>\n",
       "      <td>3.878543e+06</td>\n",
       "      <td>POINT (695952.438 3878542.740)</td>\n",
       "    </tr>\n",
       "    <tr>\n",
       "      <th>4</th>\n",
       "      <td>house_4</td>\n",
       "      <td>696007.139232</td>\n",
       "      <td>3.878537e+06</td>\n",
       "      <td>POINT (696007.139 3878537.018)</td>\n",
       "    </tr>\n",
       "    <tr>\n",
       "      <th>...</th>\n",
       "      <td>...</td>\n",
       "      <td>...</td>\n",
       "      <td>...</td>\n",
       "      <td>...</td>\n",
       "    </tr>\n",
       "    <tr>\n",
       "      <th>112743</th>\n",
       "      <td>house_112743</td>\n",
       "      <td>691937.972676</td>\n",
       "      <td>3.878106e+06</td>\n",
       "      <td>POINT (691937.973 3878105.874)</td>\n",
       "    </tr>\n",
       "    <tr>\n",
       "      <th>112744</th>\n",
       "      <td>house_112744</td>\n",
       "      <td>691944.066434</td>\n",
       "      <td>3.878089e+06</td>\n",
       "      <td>POINT (691944.066 3878089.346)</td>\n",
       "    </tr>\n",
       "    <tr>\n",
       "      <th>112745</th>\n",
       "      <td>house_112745</td>\n",
       "      <td>691832.299905</td>\n",
       "      <td>3.878052e+06</td>\n",
       "      <td>POINT (691832.300 3878052.203)</td>\n",
       "    </tr>\n",
       "    <tr>\n",
       "      <th>112746</th>\n",
       "      <td>house_112746</td>\n",
       "      <td>691822.620076</td>\n",
       "      <td>3.878041e+06</td>\n",
       "      <td>POINT (691822.620 3878040.744)</td>\n",
       "    </tr>\n",
       "    <tr>\n",
       "      <th>112747</th>\n",
       "      <td>house_112747</td>\n",
       "      <td>691812.940248</td>\n",
       "      <td>3.878029e+06</td>\n",
       "      <td>POINT (691812.940 3878029.285)</td>\n",
       "    </tr>\n",
       "  </tbody>\n",
       "</table>\n",
       "<p>112748 rows × 4 columns</p>\n",
       "</div>"
      ],
      "text/plain": [
       "                 fid              x             y  \\\n",
       "0            house_0  695997.192410  3.878538e+06   \n",
       "1            house_1  695982.274173  3.878540e+06   \n",
       "2            house_2  695967.355936  3.878541e+06   \n",
       "3            house_3  695952.437698  3.878543e+06   \n",
       "4            house_4  696007.139232  3.878537e+06   \n",
       "...              ...            ...           ...   \n",
       "112743  house_112743  691937.972676  3.878106e+06   \n",
       "112744  house_112744  691944.066434  3.878089e+06   \n",
       "112745  house_112745  691832.299905  3.878052e+06   \n",
       "112746  house_112746  691822.620076  3.878041e+06   \n",
       "112747  house_112747  691812.940248  3.878029e+06   \n",
       "\n",
       "                              geometry  \n",
       "0       POINT (695997.192 3878538.048)  \n",
       "1       POINT (695982.274 3878539.612)  \n",
       "2       POINT (695967.356 3878541.176)  \n",
       "3       POINT (695952.438 3878542.740)  \n",
       "4       POINT (696007.139 3878537.018)  \n",
       "...                                ...  \n",
       "112743  POINT (691937.973 3878105.874)  \n",
       "112744  POINT (691944.066 3878089.346)  \n",
       "112745  POINT (691832.300 3878052.203)  \n",
       "112746  POINT (691822.620 3878040.744)  \n",
       "112747  POINT (691812.940 3878029.285)  \n",
       "\n",
       "[112748 rows x 4 columns]"
      ]
     },
     "execution_count": 5,
     "metadata": {},
     "output_type": "execute_result"
    }
   ],
   "source": [
    "gdf.crs = 'epsg:6690'\n",
    "gdf"
   ]
  },
  {
   "cell_type": "code",
   "execution_count": 6,
   "id": "332d848a",
   "metadata": {},
   "outputs": [],
   "source": [
    "gdf.to_file(\"buildings.shp\")"
   ]
  }
 ],
 "metadata": {
  "kernelspec": {
   "display_name": "Python 3",
   "language": "python",
   "name": "python3"
  },
  "language_info": {
   "codemirror_mode": {
    "name": "ipython",
    "version": 3
   },
   "file_extension": ".py",
   "mimetype": "text/x-python",
   "name": "python",
   "nbconvert_exporter": "python",
   "pygments_lexer": "ipython3",
   "version": "3.8.10"
  }
 },
 "nbformat": 4,
 "nbformat_minor": 5
}

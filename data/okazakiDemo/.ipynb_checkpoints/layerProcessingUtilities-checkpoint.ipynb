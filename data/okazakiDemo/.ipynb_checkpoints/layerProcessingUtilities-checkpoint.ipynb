{
 "cells": [
  {
   "cell_type": "code",
   "execution_count": 1,
   "id": "aaf2823f",
   "metadata": {},
   "outputs": [],
   "source": [
    "import geopandas"
   ]
  },
  {
   "cell_type": "markdown",
   "id": "b4252e50",
   "metadata": {},
   "source": [
    "Read in the population data"
   ]
  },
  {
   "cell_type": "code",
   "execution_count": 35,
   "id": "67c9228a",
   "metadata": {},
   "outputs": [],
   "source": [
    "path = \"populationGrid.shp\"\n",
    "popGrid = geopandas.read_file(path)"
   ]
  },
  {
   "cell_type": "markdown",
   "id": "d53d7964",
   "metadata": {},
   "source": [
    "Convert all population and household files to be numeric values (rather than strings which the computer doesn't know how to read)"
   ]
  },
  {
   "cell_type": "code",
   "execution_count": 54,
   "id": "b2592933",
   "metadata": {},
   "outputs": [
    {
     "data": {
      "text/plain": [
       "0.9"
      ]
     },
     "execution_count": 54,
     "metadata": {},
     "output_type": "execute_result"
    }
   ],
   "source": [
    "for col in popGrid.columns:\n",
    "    if col.lower().find(\"pop\") >= 0 or col.startswith(\"_Househo\"):\n",
    "        popGrid[col] = popGrid[col].astype('float')\n",
    "popGrid.to_file(\"popGridNumeric.shp\")"
   ]
  }
 ],
 "metadata": {
  "kernelspec": {
   "display_name": "Python 3",
   "language": "python",
   "name": "python3"
  },
  "language_info": {
   "codemirror_mode": {
    "name": "ipython",
    "version": 3
   },
   "file_extension": ".py",
   "mimetype": "text/x-python",
   "name": "python",
   "nbconvert_exporter": "python",
   "pygments_lexer": "ipython3",
   "version": "3.8.10"
  }
 },
 "nbformat": 4,
 "nbformat_minor": 5
}
